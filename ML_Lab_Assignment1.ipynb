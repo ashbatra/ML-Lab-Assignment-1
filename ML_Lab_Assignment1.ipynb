{
  "nbformat": 4,
  "nbformat_minor": 0,
  "metadata": {
    "colab": {
      "name": "ML Lab Assignment1.ipynb",
      "provenance": [],
      "collapsed_sections": []
    },
    "kernelspec": {
      "name": "python3",
      "display_name": "Python 3"
    },
    "language_info": {
      "name": "python"
    }
  },
  "cells": [
    {
      "cell_type": "code",
      "metadata": {
        "colab": {
          "base_uri": "https://localhost:8080/"
        },
        "id": "8wN2kjqkTkoZ",
        "outputId": "7bfe967b-8279-4de7-81d4-185f25a0d5ea"
      },
      "source": [
        "from datetime import datetime\n",
        "name=input(\"Enter your Name:\")\n",
        "age=int(input(\"Enter your Age\"))\n",
        "var=int((100-age)+datetime.now().year)\n",
        "print('Hi %s. Your age is %s. You will turn 100 in the year %s' %(name,age,var))\n"
      ],
      "execution_count": null,
      "outputs": [
        {
          "output_type": "stream",
          "text": [
            "Enter your Name:Ashish Batra\n",
            "Enter your Age21\n",
            "Hi Ashish Batra. Your age is 21. You will turn 100 in the year 2100\n"
          ],
          "name": "stdout"
        }
      ]
    },
    {
      "cell_type": "code",
      "metadata": {
        "colab": {
          "base_uri": "https://localhost:8080/"
        },
        "id": "4QvsllCeY5gW",
        "outputId": "052f82a4-c0e6-400e-ff49-9f0c693a820b"
      },
      "source": [
        "num=int(input(\"Enter the number of times you want to print the message:\"))\n",
        "for x in range(num):\n",
        "  print('Hi %s. Your age is %s. You will turn 100 in the year %s' %(name,age,var))\n"
      ],
      "execution_count": null,
      "outputs": [
        {
          "output_type": "stream",
          "text": [
            "Enter the number of times you want to print the message:3\n",
            "Hi Ashish Batra. Your age is 21. You will turn 100 in the year 2100\n",
            "Hi Ashish Batra. Your age is 21. You will turn 100 in the year 2100\n",
            "Hi Ashish Batra. Your age is 21. You will turn 100 in the year 2100\n"
          ],
          "name": "stdout"
        }
      ]
    },
    {
      "cell_type": "code",
      "metadata": {
        "id": "j33uVfopYExg",
        "colab": {
          "base_uri": "https://localhost:8080/"
        },
        "outputId": "2ded6a1f-44bd-4cfd-b36f-81749ff234a2"
      },
      "source": [
        "num=int(input(\"Enter the number of times you want to print the message:\"))\n",
        "for x in range(num):\n",
        "  print('Hi %s. Your age is %s. You will turn 100 in the year %s \\n' %(name,age,var))\n"
      ],
      "execution_count": null,
      "outputs": [
        {
          "output_type": "stream",
          "text": [
            "Enter the number of times you want to print the message:10\n",
            "Hi Ashish Batra. Your age is 21. You will turn 100 in the year 2100 \n",
            "\n",
            "Hi Ashish Batra. Your age is 21. You will turn 100 in the year 2100 \n",
            "\n",
            "Hi Ashish Batra. Your age is 21. You will turn 100 in the year 2100 \n",
            "\n",
            "Hi Ashish Batra. Your age is 21. You will turn 100 in the year 2100 \n",
            "\n",
            "Hi Ashish Batra. Your age is 21. You will turn 100 in the year 2100 \n",
            "\n",
            "Hi Ashish Batra. Your age is 21. You will turn 100 in the year 2100 \n",
            "\n",
            "Hi Ashish Batra. Your age is 21. You will turn 100 in the year 2100 \n",
            "\n",
            "Hi Ashish Batra. Your age is 21. You will turn 100 in the year 2100 \n",
            "\n",
            "Hi Ashish Batra. Your age is 21. You will turn 100 in the year 2100 \n",
            "\n",
            "Hi Ashish Batra. Your age is 21. You will turn 100 in the year 2100 \n",
            "\n"
          ],
          "name": "stdout"
        }
      ]
    },
    {
      "cell_type": "code",
      "metadata": {
        "id": "olGH3WrKYFH5",
        "colab": {
          "base_uri": "https://localhost:8080/"
        },
        "outputId": "51a3d746-80dc-481d-d301-2a78aeed5824"
      },
      "source": [
        "a= [1,1,2,3,5,8,13,21,34,55,89]\n",
        "b=[]\n",
        "for x in a:\n",
        "  if x<5:\n",
        "    b.append(x)\n",
        "print(b)"
      ],
      "execution_count": null,
      "outputs": [
        {
          "output_type": "stream",
          "text": [
            "[1, 1, 2, 3]\n"
          ],
          "name": "stdout"
        }
      ]
    },
    {
      "cell_type": "code",
      "metadata": {
        "colab": {
          "base_uri": "https://localhost:8080/"
        },
        "id": "DOf7w_dZcYaC",
        "outputId": "48a0c77c-082c-4732-d7aa-c1d0e6e56869"
      },
      "source": [
        "a= [1,1,2,3,5,8,13,21,34,55,89]\n",
        "for x in a: \n",
        "  if x<5:\n",
        "    print(x)"
      ],
      "execution_count": null,
      "outputs": [
        {
          "output_type": "stream",
          "text": [
            "1\n",
            "1\n",
            "2\n",
            "3\n"
          ],
          "name": "stdout"
        }
      ]
    },
    {
      "cell_type": "code",
      "metadata": {
        "colab": {
          "base_uri": "https://localhost:8080/"
        },
        "id": "Adq3jlTRdJIU",
        "outputId": "1252fe55-4433-4907-bcf0-da0ca9930e55"
      },
      "source": [
        "[print(x) for x in b]"
      ],
      "execution_count": null,
      "outputs": [
        {
          "output_type": "stream",
          "text": [
            "1\n",
            "1\n",
            "2\n",
            "3\n"
          ],
          "name": "stdout"
        },
        {
          "output_type": "execute_result",
          "data": {
            "text/plain": [
              "[None, None, None, None]"
            ]
          },
          "metadata": {
            "tags": []
          },
          "execution_count": 13
        }
      ]
    },
    {
      "cell_type": "code",
      "metadata": {
        "colab": {
          "base_uri": "https://localhost:8080/"
        },
        "id": "mXNnKsmNeCO3",
        "outputId": "89568bcd-5ba7-4046-ac87-6ff114a620c0"
      },
      "source": [
        "number2=int(input(\"Enter the number:\"))\n",
        "for x in a:\n",
        "  if x<number2:\n",
        "    print(x)"
      ],
      "execution_count": null,
      "outputs": [
        {
          "output_type": "stream",
          "text": [
            "Enter the number:14\n",
            "1\n",
            "1\n",
            "2\n",
            "3\n",
            "5\n",
            "8\n",
            "13\n"
          ],
          "name": "stdout"
        }
      ]
    },
    {
      "cell_type": "code",
      "metadata": {
        "colab": {
          "base_uri": "https://localhost:8080/"
        },
        "id": "8EdZnqASgkLG",
        "outputId": "5391130f-e81c-4ab6-df3d-ad1554beafb3"
      },
      "source": [
        "def fibo(n):\n",
        "  if n<=1:\n",
        "    return n\n",
        "  else:\n",
        "      return(fibo(n-1)+fibo(n-2))\n",
        "\n",
        "terms=int(input(\"Number of terms\"))\n",
        "if terms<=0:\n",
        "  print(\"Enter a positive interger\")\n",
        "else:\n",
        "  print(\"fibonacci Series\")\n",
        "  for i in range(terms):\n",
        "    print(fibo(i))"
      ],
      "execution_count": null,
      "outputs": [
        {
          "output_type": "stream",
          "text": [
            "Number of terms5\n",
            "fibonacci Series\n",
            "0\n",
            "1\n",
            "1\n",
            "2\n",
            "3\n"
          ],
          "name": "stdout"
        }
      ]
    },
    {
      "cell_type": "code",
      "metadata": {
        "colab": {
          "base_uri": "https://localhost:8080/"
        },
        "id": "ckNsUzvi3UC4",
        "outputId": "63a0239e-706f-49fb-e24d-2c8fcf80792c"
      },
      "source": [
        "list1 = [1,1,2,3,5,8,13,3,5,6,1]\n",
        "list2=[]\n",
        "for i in list1:\n",
        "  if i not in list2:\n",
        "    list2.append(i)\n",
        "\n",
        "print(\"The original list is\" + str(list1))\n",
        "print(\"New list without duplicates is\" + str(list2))"
      ],
      "execution_count": null,
      "outputs": [
        {
          "output_type": "stream",
          "text": [
            "The original list is[1, 1, 2, 3, 5, 8, 13, 3, 5, 6, 1]\n",
            "New list without duplicates is[1, 2, 3, 5, 8, 13, 6]\n"
          ],
          "name": "stdout"
        }
      ]
    },
    {
      "cell_type": "code",
      "metadata": {
        "colab": {
          "base_uri": "https://localhost:8080/"
        },
        "id": "Ag_ZMvng5M5F",
        "outputId": "d156d569-0e01-4098-db27-b3d4634b79bb"
      },
      "source": [
        "list1 = [1,1,2,3,5,8,13,3,5,6,1]\n",
        "def func(list1):\n",
        "  list3=[]\n",
        "  for i in list1:\n",
        "    if  i not in list3:\n",
        "      list3.append(i)\n",
        "  print(\"New list is\" +str(list3))\n",
        "\n",
        "func(list1)"
      ],
      "execution_count": null,
      "outputs": [
        {
          "output_type": "stream",
          "text": [
            "New list is[1, 2, 3, 5, 8, 13, 6]\n"
          ],
          "name": "stdout"
        }
      ]
    },
    {
      "cell_type": "code",
      "metadata": {
        "colab": {
          "base_uri": "https://localhost:8080/"
        },
        "id": "In-ISPbd6r8W",
        "outputId": "09c9238f-88a2-4ce4-9224-7c9563805e96"
      },
      "source": [
        "def func2(list1):\n",
        "  newlist=list(set(list1))\n",
        "  print(\"New List\" +str(newlist))\n",
        "\n",
        "func2(list1)"
      ],
      "execution_count": null,
      "outputs": [
        {
          "output_type": "stream",
          "text": [
            "New List[1, 2, 3, 5, 6, 8, 13]\n"
          ],
          "name": "stdout"
        }
      ]
    },
    {
      "cell_type": "code",
      "metadata": {
        "colab": {
          "base_uri": "https://localhost:8080/"
        },
        "id": "uIwTiGTZ8mNt",
        "outputId": "096f42d7-1aeb-4a06-9770-2f8192f57cfb"
      },
      "source": [
        "num=int(input(\"Enter the number that you want to check\"))\n",
        "\n",
        "def Prime(num1):\n",
        "  flag= False\n",
        "  if num1>1:\n",
        "    for i in range(2,num1):\n",
        "      if(num1%i) ==0:\n",
        "        flag =True\n",
        "        break\n",
        "  if flag:\n",
        "    print(\"%s is not prime\" %(num1))\n",
        "  else:\n",
        "    print(\"%s in prime\" %(num1))\n",
        "\n",
        "Prime(num)\n"
      ],
      "execution_count": null,
      "outputs": [
        {
          "output_type": "stream",
          "text": [
            "Enter the number that you want to check54\n",
            "54 is not prime\n"
          ],
          "name": "stdout"
        }
      ]
    }
  ]
}